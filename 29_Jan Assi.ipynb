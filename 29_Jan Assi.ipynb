{
 "cells": [
  {
   "cell_type": "markdown",
   "id": "36b4cbfb-f7ce-40f3-ba4d-43c62a280ded",
   "metadata": {},
   "source": [
    "# 29th Jan Python Assignment"
   ]
  },
  {
   "cell_type": "code",
   "execution_count": null,
   "id": "916f3a23-73c5-4f0c-9afd-80990729fbb3",
   "metadata": {},
   "outputs": [],
   "source": [
    "Q1.   Who developed python programming language?\n",
    "Ans - Python was created by Guido van Rossum, and first released on February 20, 1991.\n"
   ]
  },
  {
   "cell_type": "code",
   "execution_count": null,
   "id": "36e96d4a-ad60-491d-8258-fb049cda91db",
   "metadata": {},
   "outputs": [],
   "source": [
    "Q2    which type of programming does Python support?\n",
    "Ans - Python supports both object-oriented and procedural programming .\n"
   ]
  },
  {
   "cell_type": "code",
   "execution_count": null,
   "id": "5a9927a8-3d5a-4c64-84a5-aa5f6e519d9a",
   "metadata": {},
   "outputs": [],
   "source": [
    "Q3    Is python case sensitive when dealing with identifiers?\n",
    "Ans - Yes, Python is case sensitive when dealing with identifiers.\n",
    "\tExample:- \"Name\" , \"name\", \"NAME\" these are treated as Three different identifiers in python.\n",
    "    "
   ]
  },
  {
   "cell_type": "code",
   "execution_count": null,
   "id": "f872c52a-7ea5-494a-a74e-28df1499dc74",
   "metadata": {},
   "outputs": [],
   "source": [
    "Q4    What is the correct extension for python file ?\n",
    "Ans - When creating programs and code in Python, the correct file extension for your code is .py |\n"
   ]
  },
  {
   "cell_type": "code",
   "execution_count": null,
   "id": "6fd68333-33db-4dd6-89ff-a5bbde46cb7c",
   "metadata": {},
   "outputs": [],
   "source": [
    "Q5    Is Python code compiled or interpreted ?\n",
    "Ans -  Python is \"Compiled interpreted\". There is no separate compile step after writing Python code and before running the .py file.\n"
   ]
  },
  {
   "cell_type": "code",
   "execution_count": null,
   "id": "a9a1e92b-1ac1-493e-96dc-0b039b631758",
   "metadata": {},
   "outputs": [],
   "source": [
    "Q6    Name a few blocks of code used to define in Python language ?\n",
    "Ans - The most common blocks of code used to define in Python language are:\n",
    "      i>-- if condition:\n",
    "              # statements 1\n",
    "              # statements 2\n",
    "      ii>  while condition:\n",
    "              # statements 1\n",
    "            "
   ]
  },
  {
   "cell_type": "code",
   "execution_count": null,
   "id": "25cc044b-58e3-448f-b3e7-e8d48f53eb26",
   "metadata": {},
   "outputs": [],
   "source": [
    "Q7    State a chatacter used to give single - line comments in plython?\n",
    "Ans - In Python,  the character used to give single-line comments is the hash symbol (#).\n",
    "    "
   ]
  },
  {
   "cell_type": "code",
   "execution_count": null,
   "id": "83189030-c117-4b0c-b4d2-e34563adb43a",
   "metadata": {},
   "outputs": [],
   "source": [
    "Q8    Mention function which can help us to find the version of python that we are currently working on ?\n",
    "Ans   find the version of Python that we are currently working on is---> sys.version.\n"
   ]
  },
  {
   "cell_type": "code",
   "execution_count": null,
   "id": "77ce0af4-c8c0-4418-91fc-d0168d0d2a2a",
   "metadata": {},
   "outputs": [],
   "source": [
    "Q9    Python supports the creation of anonymous functions at runtime, using a construct called\n",
    "Ans - ------lambda function-------\n"
   ]
  },
  {
   "cell_type": "code",
   "execution_count": null,
   "id": "b33e2112-7bb3-44f5-a74d-7ebd247ab064",
   "metadata": {},
   "outputs": [],
   "source": [
    "Q10   What does pip stand for python?\n",
    "Ans - \"Preferred Installer Program\"\n"
   ]
  },
  {
   "cell_type": "code",
   "execution_count": null,
   "id": "2f7092b6-220a-4234-95ba-bdc32515e4f3",
   "metadata": {},
   "outputs": [],
   "source": [
    "Q11   Mention a few built- in functions in python?\n",
    "Ans - Built-in functions are functions that are always available for in Python Programs.\n",
    "      Here are some examples of built-in function :--\n",
    "      >len()  to get the length of the value\n",
    "      >input()  Allowing user input.\n",
    "      >map()   Returns the specified iterator with the specified function applied to each item.\n",
    "        "
   ]
  },
  {
   "cell_type": "code",
   "execution_count": null,
   "id": "f5266791-8c6f-49c4-b145-b90adff86526",
   "metadata": {},
   "outputs": [],
   "source": [
    "Q12   What is the maximum possible length of an identifier in Python?\n",
    "Ans - The maximum possible length of an identifier in Python is 79 characters\n"
   ]
  },
  {
   "cell_type": "code",
   "execution_count": null,
   "id": "842289d8-b2de-4adf-a90b-e072200fe745",
   "metadata": {},
   "outputs": [],
   "source": [
    "Q13   What are the benefits of using Python?\n",
    "Ans   1.Simple to Use and Understand\n",
    "      2.Free and Open-Source\n",
    "      3.Interpreted Language\n",
    "      4.Portable and Extensible\n",
    "      5.Object-Oriented Programming\n",
    "        "
   ]
  },
  {
   "cell_type": "code",
   "execution_count": null,
   "id": "3da845cf-566a-41c8-b1d2-73746445012a",
   "metadata": {},
   "outputs": [],
   "source": [
    "Q14   How is memory managed in Python?\n",
    "Ans - To install Python on Windows and set path variables, follow these steps:\n",
    "\n",
    "      >>Download the Python installer for Windows from the official website.\n",
    "        Choose the version that corresponds to your operating system and architecture\n",
    "      >>Double-click the downloaded installer and follow the prompts to install Python.\n",
    "        Make sure to select the option to add Python to the system PATH.\n",
    "      >>Once the installation is complete, open the Start menu and search for\n",
    "        \"Environment Variables.\" Click on \"Edit the system environment variables.\"\n",
    "      >>In the System Properties window, click on the \"Environment Variables\" button.\n",
    "      >>Under \"System Variables,\" scroll down and find the \"Path\" variable. Click on \"Edit.\"\n",
    "      >>Click \"New\" and add the path to your Python installation directory. For example, if you installed Python to the default location,\n",
    "        the path should be C:\\Python39.\n",
    "      >>Click \"OK\" to save the changes.\n",
    "        Open a new command prompt window and type \"python\" to \n",
    "        test if Python was installed correctly and the PATH variable was set up correctly.\n",
    "        "
   ]
  },
  {
   "cell_type": "code",
   "execution_count": null,
   "id": "aafacd96-5cf1-405b-b52e-b8e41c4f8c1b",
   "metadata": {},
   "outputs": [],
   "source": []
  },
  {
   "cell_type": "code",
   "execution_count": null,
   "id": "d55216b8-1531-4667-b058-565c0537d94a",
   "metadata": {},
   "outputs": [],
   "source": []
  },
  {
   "cell_type": "code",
   "execution_count": null,
   "id": "5634ace1-fc50-4ca8-aade-cc5443baea96",
   "metadata": {},
   "outputs": [],
   "source": []
  }
 ],
 "metadata": {
  "kernelspec": {
   "display_name": "Python 3 (ipykernel)",
   "language": "python",
   "name": "python3"
  },
  "language_info": {
   "codemirror_mode": {
    "name": "ipython",
    "version": 3
   },
   "file_extension": ".py",
   "mimetype": "text/x-python",
   "name": "python",
   "nbconvert_exporter": "python",
   "pygments_lexer": "ipython3",
   "version": "3.10.8"
  }
 },
 "nbformat": 4,
 "nbformat_minor": 5
}
